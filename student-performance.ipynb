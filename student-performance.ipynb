{
 "cells": [
  {
   "cell_type": "markdown",
   "metadata": {},
   "source": [
    "<div class=\"alert alert-block alert-info\">\n",
    "    <a href=\"https://www.linkedin.com/in/lopesflavia\"><img alt=\"Flávia Lopes. Let's code :)\" src=\"logo.png\" width=250px, align=\"center\"></a>\n",
    "</div>"
   ]
  },
  {
   "cell_type": "markdown",
   "metadata": {},
   "source": [
    "<h1>Student Performance Prediction - Portuguese Final Grade</h1>\n",
    "<div style=\"margin-top: 20px\">\n",
    "    data description page:     \n",
    "    <a href=\"http://archive.ics.uci.edu/ml/datasets/Student+Performance\">http://archive.ics.uci.edu/ml/datasets/Student+Performance</a><br>\n",
    "    data source: <a href=\"http://archive.ics.uci.edu/ml/machine-learning-databases/00320/student.zip\" target=\"_blank\">http://archive.ics.uci.edu/ml/machine-learning-databases/00320/student.zip</a><br>\n",
    "    data type: csv\n",
    "\n",
    "</div>"
   ]
  },
  {
   "cell_type": "markdown",
   "metadata": {},
   "source": [
    "<a id=\"contents\"></a>\n",
    "<h2>Table of Contents</h2>\n",
    "\n",
    "<div class=\"alert alert-block alert-info\" style=\"margin-top: 20px\">\n",
    "    <ol>\n",
    "        <li><a href=\"#acquisition\">Data Acquisition and Wrangling</a></li>\n",
    "        <li><a href=\"#exploratory\">Exploratory Data Analysis: Visualization</a>\n",
    "            <ol>\n",
    "                <li><a href=\"#regplot\">Visualizing Continuous Variables With regplot</a></li>\n",
    "                <li><a href=\"#boxplot\">Visualizing Categoricals Variables With boxplot</a></li>\n",
    "            </ol>\n",
    "        </li>\n",
    "        <li><a href=\"#features-selected\">Features Selected to Model</a></li>\n",
    "        <li><a href=\"#data-transform\">Data Transforming</a></li>\n",
    "        <li><a href=\"#model-development-mlr\">From Model Development to Evaluation: MLR</a>  \n",
    "            <ol>\n",
    "                <li><a href=\"#evaluation-measures-in\">Measures for In-Sample Evaluation</a></li>\n",
    "                <li><a href=\"#evaluation-visualization\">Evaluation Using Visualization</a></li>\n",
    "            </ol>\n",
    "        </li>        \n",
    "    </ol>\n",
    "</div>\n",
    "<hr>"
   ]
  },
  {
   "cell_type": "markdown",
   "metadata": {},
   "source": [
    "<a  id=\"acquisition\"></a>\n",
    "<h2>Data Acquisition and Wrangling</h2>"
   ]
  },
  {
   "cell_type": "code",
   "execution_count": 1,
   "metadata": {},
   "outputs": [],
   "source": [
    "import pandas as pd"
   ]
  },
  {
   "cell_type": "code",
   "execution_count": 2,
   "metadata": {},
   "outputs": [],
   "source": [
    "data = pd.read_csv('student-por.csv', sep=';')"
   ]
  },
  {
   "cell_type": "markdown",
   "metadata": {},
   "source": [
    "<h3>Carregando o dicionário de dados em DataFrame</h3>\n",
    "<p>Loads student.txt file, the data dictionary, into a DataFrame for getting info about variables.</p>"
   ]
  },
  {
   "cell_type": "code",
   "execution_count": 3,
   "metadata": {},
   "outputs": [],
   "source": [
    "import studentInfo as si\n",
    "about = si.about()"
   ]
  },
  {
   "cell_type": "code",
   "execution_count": 4,
   "metadata": {},
   "outputs": [
    {
     "data": {
      "text/plain": [
       "0    student's school (binary: \"GP\" - Gabriel Pereira or \"MS\" - Mousinho da Silveira)\n",
       "Name: school, dtype: object"
      ]
     },
     "execution_count": 4,
     "metadata": {},
     "output_type": "execute_result"
    }
   ],
   "source": [
    "about.school"
   ]
  },
  {
   "cell_type": "markdown",
   "metadata": {},
   "source": [
    "<h3>Are There Missing Values in Data? No.</h3>\n",
    "<p>The count shows 649 entries for all variables.</p>"
   ]
  },
  {
   "cell_type": "code",
   "execution_count": 5,
   "metadata": {},
   "outputs": [
    {
     "data": {
      "text/html": [
       "<div>\n",
       "<style scoped>\n",
       "    .dataframe tbody tr th:only-of-type {\n",
       "        vertical-align: middle;\n",
       "    }\n",
       "\n",
       "    .dataframe tbody tr th {\n",
       "        vertical-align: top;\n",
       "    }\n",
       "\n",
       "    .dataframe thead th {\n",
       "        text-align: right;\n",
       "    }\n",
       "</style>\n",
       "<table border=\"1\" class=\"dataframe\">\n",
       "  <thead>\n",
       "    <tr style=\"text-align: right;\">\n",
       "      <th></th>\n",
       "      <th>age</th>\n",
       "      <th>Medu</th>\n",
       "      <th>Fedu</th>\n",
       "      <th>traveltime</th>\n",
       "      <th>studytime</th>\n",
       "      <th>failures</th>\n",
       "      <th>famrel</th>\n",
       "      <th>freetime</th>\n",
       "      <th>goout</th>\n",
       "      <th>Dalc</th>\n",
       "      <th>Walc</th>\n",
       "      <th>health</th>\n",
       "      <th>absences</th>\n",
       "      <th>G1</th>\n",
       "      <th>G2</th>\n",
       "      <th>G3</th>\n",
       "    </tr>\n",
       "  </thead>\n",
       "  <tbody>\n",
       "    <tr>\n",
       "      <th>count</th>\n",
       "      <td>649.000000</td>\n",
       "      <td>649.000000</td>\n",
       "      <td>649.000000</td>\n",
       "      <td>649.000000</td>\n",
       "      <td>649.000000</td>\n",
       "      <td>649.000000</td>\n",
       "      <td>649.000000</td>\n",
       "      <td>649.000000</td>\n",
       "      <td>649.000000</td>\n",
       "      <td>649.000000</td>\n",
       "      <td>649.000000</td>\n",
       "      <td>649.000000</td>\n",
       "      <td>649.000000</td>\n",
       "      <td>649.000000</td>\n",
       "      <td>649.000000</td>\n",
       "      <td>649.000000</td>\n",
       "    </tr>\n",
       "    <tr>\n",
       "      <th>mean</th>\n",
       "      <td>16.744222</td>\n",
       "      <td>2.514638</td>\n",
       "      <td>2.306626</td>\n",
       "      <td>1.568567</td>\n",
       "      <td>1.930663</td>\n",
       "      <td>0.221880</td>\n",
       "      <td>3.930663</td>\n",
       "      <td>3.180277</td>\n",
       "      <td>3.184900</td>\n",
       "      <td>1.502311</td>\n",
       "      <td>2.280431</td>\n",
       "      <td>3.536210</td>\n",
       "      <td>3.659476</td>\n",
       "      <td>11.399076</td>\n",
       "      <td>11.570108</td>\n",
       "      <td>11.906009</td>\n",
       "    </tr>\n",
       "    <tr>\n",
       "      <th>std</th>\n",
       "      <td>1.218138</td>\n",
       "      <td>1.134552</td>\n",
       "      <td>1.099931</td>\n",
       "      <td>0.748660</td>\n",
       "      <td>0.829510</td>\n",
       "      <td>0.593235</td>\n",
       "      <td>0.955717</td>\n",
       "      <td>1.051093</td>\n",
       "      <td>1.175766</td>\n",
       "      <td>0.924834</td>\n",
       "      <td>1.284380</td>\n",
       "      <td>1.446259</td>\n",
       "      <td>4.640759</td>\n",
       "      <td>2.745265</td>\n",
       "      <td>2.913639</td>\n",
       "      <td>3.230656</td>\n",
       "    </tr>\n",
       "    <tr>\n",
       "      <th>min</th>\n",
       "      <td>15.000000</td>\n",
       "      <td>0.000000</td>\n",
       "      <td>0.000000</td>\n",
       "      <td>1.000000</td>\n",
       "      <td>1.000000</td>\n",
       "      <td>0.000000</td>\n",
       "      <td>1.000000</td>\n",
       "      <td>1.000000</td>\n",
       "      <td>1.000000</td>\n",
       "      <td>1.000000</td>\n",
       "      <td>1.000000</td>\n",
       "      <td>1.000000</td>\n",
       "      <td>0.000000</td>\n",
       "      <td>0.000000</td>\n",
       "      <td>0.000000</td>\n",
       "      <td>0.000000</td>\n",
       "    </tr>\n",
       "    <tr>\n",
       "      <th>25%</th>\n",
       "      <td>16.000000</td>\n",
       "      <td>2.000000</td>\n",
       "      <td>1.000000</td>\n",
       "      <td>1.000000</td>\n",
       "      <td>1.000000</td>\n",
       "      <td>0.000000</td>\n",
       "      <td>4.000000</td>\n",
       "      <td>3.000000</td>\n",
       "      <td>2.000000</td>\n",
       "      <td>1.000000</td>\n",
       "      <td>1.000000</td>\n",
       "      <td>2.000000</td>\n",
       "      <td>0.000000</td>\n",
       "      <td>10.000000</td>\n",
       "      <td>10.000000</td>\n",
       "      <td>10.000000</td>\n",
       "    </tr>\n",
       "    <tr>\n",
       "      <th>50%</th>\n",
       "      <td>17.000000</td>\n",
       "      <td>2.000000</td>\n",
       "      <td>2.000000</td>\n",
       "      <td>1.000000</td>\n",
       "      <td>2.000000</td>\n",
       "      <td>0.000000</td>\n",
       "      <td>4.000000</td>\n",
       "      <td>3.000000</td>\n",
       "      <td>3.000000</td>\n",
       "      <td>1.000000</td>\n",
       "      <td>2.000000</td>\n",
       "      <td>4.000000</td>\n",
       "      <td>2.000000</td>\n",
       "      <td>11.000000</td>\n",
       "      <td>11.000000</td>\n",
       "      <td>12.000000</td>\n",
       "    </tr>\n",
       "    <tr>\n",
       "      <th>75%</th>\n",
       "      <td>18.000000</td>\n",
       "      <td>4.000000</td>\n",
       "      <td>3.000000</td>\n",
       "      <td>2.000000</td>\n",
       "      <td>2.000000</td>\n",
       "      <td>0.000000</td>\n",
       "      <td>5.000000</td>\n",
       "      <td>4.000000</td>\n",
       "      <td>4.000000</td>\n",
       "      <td>2.000000</td>\n",
       "      <td>3.000000</td>\n",
       "      <td>5.000000</td>\n",
       "      <td>6.000000</td>\n",
       "      <td>13.000000</td>\n",
       "      <td>13.000000</td>\n",
       "      <td>14.000000</td>\n",
       "    </tr>\n",
       "    <tr>\n",
       "      <th>max</th>\n",
       "      <td>22.000000</td>\n",
       "      <td>4.000000</td>\n",
       "      <td>4.000000</td>\n",
       "      <td>4.000000</td>\n",
       "      <td>4.000000</td>\n",
       "      <td>3.000000</td>\n",
       "      <td>5.000000</td>\n",
       "      <td>5.000000</td>\n",
       "      <td>5.000000</td>\n",
       "      <td>5.000000</td>\n",
       "      <td>5.000000</td>\n",
       "      <td>5.000000</td>\n",
       "      <td>32.000000</td>\n",
       "      <td>19.000000</td>\n",
       "      <td>19.000000</td>\n",
       "      <td>19.000000</td>\n",
       "    </tr>\n",
       "  </tbody>\n",
       "</table>\n",
       "</div>"
      ],
      "text/plain": [
       "              age        Medu        Fedu  traveltime   studytime    failures  \\\n",
       "count  649.000000  649.000000  649.000000  649.000000  649.000000  649.000000   \n",
       "mean    16.744222    2.514638    2.306626    1.568567    1.930663    0.221880   \n",
       "std      1.218138    1.134552    1.099931    0.748660    0.829510    0.593235   \n",
       "min     15.000000    0.000000    0.000000    1.000000    1.000000    0.000000   \n",
       "25%     16.000000    2.000000    1.000000    1.000000    1.000000    0.000000   \n",
       "50%     17.000000    2.000000    2.000000    1.000000    2.000000    0.000000   \n",
       "75%     18.000000    4.000000    3.000000    2.000000    2.000000    0.000000   \n",
       "max     22.000000    4.000000    4.000000    4.000000    4.000000    3.000000   \n",
       "\n",
       "           famrel    freetime       goout        Dalc        Walc      health  \\\n",
       "count  649.000000  649.000000  649.000000  649.000000  649.000000  649.000000   \n",
       "mean     3.930663    3.180277    3.184900    1.502311    2.280431    3.536210   \n",
       "std      0.955717    1.051093    1.175766    0.924834    1.284380    1.446259   \n",
       "min      1.000000    1.000000    1.000000    1.000000    1.000000    1.000000   \n",
       "25%      4.000000    3.000000    2.000000    1.000000    1.000000    2.000000   \n",
       "50%      4.000000    3.000000    3.000000    1.000000    2.000000    4.000000   \n",
       "75%      5.000000    4.000000    4.000000    2.000000    3.000000    5.000000   \n",
       "max      5.000000    5.000000    5.000000    5.000000    5.000000    5.000000   \n",
       "\n",
       "         absences          G1          G2          G3  \n",
       "count  649.000000  649.000000  649.000000  649.000000  \n",
       "mean     3.659476   11.399076   11.570108   11.906009  \n",
       "std      4.640759    2.745265    2.913639    3.230656  \n",
       "min      0.000000    0.000000    0.000000    0.000000  \n",
       "25%      0.000000   10.000000   10.000000   10.000000  \n",
       "50%      2.000000   11.000000   11.000000   12.000000  \n",
       "75%      6.000000   13.000000   13.000000   14.000000  \n",
       "max     32.000000   19.000000   19.000000   19.000000  "
      ]
     },
     "execution_count": 5,
     "metadata": {},
     "output_type": "execute_result"
    }
   ],
   "source": [
    "data.describe()"
   ]
  },
  {
   "cell_type": "markdown",
   "metadata": {},
   "source": [
    "<p>Is there any missing value in the columns? No.</p>"
   ]
  },
  {
   "cell_type": "code",
   "execution_count": 6,
   "metadata": {
    "scrolled": true
   },
   "outputs": [
    {
     "data": {
      "text/plain": [
       "False"
      ]
     },
     "execution_count": 6,
     "metadata": {},
     "output_type": "execute_result"
    }
   ],
   "source": [
    "missing_data = data.isnull()\n",
    "missing_data.replace(False, '0', inplace=True)\n",
    "missing_data.replace(True, '1', inplace=True)\n",
    "missing_data = missing_data.astype('int64')\n",
    "(missing_data.sum()>=1).any()"
   ]
  },
  {
   "cell_type": "markdown",
   "metadata": {},
   "source": [
    "<h3>Checking Types</h3>"
   ]
  },
  {
   "cell_type": "markdown",
   "metadata": {},
   "source": [
    "<p>Checking each variable in both data.dtypes and about dataframe we observed that the types are correct.</p>"
   ]
  },
  {
   "cell_type": "code",
   "execution_count": 7,
   "metadata": {
    "scrolled": false
   },
   "outputs": [
    {
     "data": {
      "text/plain": [
       "school        object\n",
       "sex           object\n",
       "age            int64\n",
       "address       object\n",
       "famsize       object\n",
       "Pstatus       object\n",
       "Medu           int64\n",
       "Fedu           int64\n",
       "Mjob          object\n",
       "Fjob          object\n",
       "reason        object\n",
       "guardian      object\n",
       "traveltime     int64\n",
       "studytime      int64\n",
       "failures       int64\n",
       "schoolsup     object\n",
       "famsup        object\n",
       "paid          object\n",
       "activities    object\n",
       "nursery       object\n",
       "higher        object\n",
       "internet      object\n",
       "romantic      object\n",
       "famrel         int64\n",
       "freetime       int64\n",
       "goout          int64\n",
       "Dalc           int64\n",
       "Walc           int64\n",
       "health         int64\n",
       "absences       int64\n",
       "G1             int64\n",
       "G2             int64\n",
       "G3             int64\n",
       "dtype: object"
      ]
     },
     "execution_count": 7,
     "metadata": {},
     "output_type": "execute_result"
    }
   ],
   "source": [
    "data.dtypes"
   ]
  },
  {
   "cell_type": "code",
   "execution_count": 8,
   "metadata": {},
   "outputs": [
    {
     "data": {
      "text/plain": [
       "11    104\n",
       "10     97\n",
       "13     82\n",
       "12     72\n",
       "14     63\n",
       "15     49\n",
       "16     36\n",
       "9      35\n",
       "8      35\n",
       "17     29\n",
       "0      15\n",
       "18     15\n",
       "7      10\n",
       "6       3\n",
       "19      2\n",
       "5       1\n",
       "1       1\n",
       "Name: G3, dtype: int64"
      ]
     },
     "execution_count": 8,
     "metadata": {},
     "output_type": "execute_result"
    }
   ],
   "source": [
    "data['G3'].value_counts()"
   ]
  },
  {
   "cell_type": "markdown",
   "metadata": {},
   "source": [
    "<a href=\"#contents\" class=\"btn btn-success\" style=\"padding:10px;text-decoration:none;\">Voltar ao Topo</a>"
   ]
  },
  {
   "cell_type": "markdown",
   "metadata": {},
   "source": [
    "<a  id=\"exploratory\"></a>\n",
    "<h2>Exploratory Data Analysis: Visualization</h2>"
   ]
  },
  {
   "cell_type": "code",
   "execution_count": 9,
   "metadata": {},
   "outputs": [],
   "source": [
    "import seaborn as sns\n",
    "import matplotlib.pyplot as plt\n",
    "%matplotlib inline"
   ]
  },
  {
   "cell_type": "markdown",
   "metadata": {},
   "source": [
    "<h3>Plot Histograms - See Distribution (FacetGrid)</h3>"
   ]
  },
  {
   "cell_type": "code",
   "execution_count": 10,
   "metadata": {},
   "outputs": [
    {
     "name": "stdout",
     "output_type": "stream",
     "text": [
      "Index(['school', 'sex', 'age', 'address', 'famsize', 'Pstatus', 'Medu', 'Fedu',\n",
      "       'Mjob', 'Fjob', 'reason', 'guardian', 'traveltime', 'studytime',\n",
      "       'failures', 'schoolsup', 'famsup', 'paid', 'activities', 'nursery',\n",
      "       'higher', 'internet', 'romantic', 'famrel', 'freetime', 'goout', 'Dalc',\n",
      "       'Walc', 'health', 'absences', 'G1', 'G2', 'G3'],\n",
      "      dtype='object')\n"
     ]
    },
    {
     "data": {
      "text/plain": [
       "0    weekly study time (numeric: 1 - <2 hours, 2 - 2 to 5 hours, 3 - 5 to 10 hours, or 4 - >10 hours)\n",
       "Name: studytime, dtype: object"
      ]
     },
     "execution_count": 10,
     "metadata": {},
     "output_type": "execute_result"
    }
   ],
   "source": [
    "print(about.columns)\n",
    "about.studytime"
   ]
  },
  {
   "cell_type": "code",
   "execution_count": 11,
   "metadata": {},
   "outputs": [
    {
     "data": {
      "text/plain": [
       "<seaborn.axisgrid.FacetGrid at 0x7f8a58303550>"
      ]
     },
     "execution_count": 11,
     "metadata": {},
     "output_type": "execute_result"
    },
    {
     "data": {
      "image/png": "[encoded data removed]",
      "text/plain": [
       "<Figure size 432x216 with 2 Axes>"
      ]
     },
     "metadata": {
      "needs_background": "light"
     },
     "output_type": "display_data"
    }
   ],
   "source": [
    "g = sns.FacetGrid(data, col=\"higher\")\n",
    "g.map(plt.hist, \"studytime\")"
   ]
  },
  {
   "cell_type": "markdown",
   "metadata": {},
   "source": [
    "<a  id=\"regplot\"></a>\n",
    "<h3>Visualizating Continuous Variables With regplot</h3>\n",
    "\n",
    "<p>A good way to visualize both continuous and target variables is by using regplots.</p>"
   ]
  },
  {
   "cell_type": "code",
   "execution_count": 12,
   "metadata": {
    "scrolled": true
   },
   "outputs": [
    {
     "data": {
      "image/png": "[encoded data removed]",
      "text/plain": [
       "<Figure size 432x288 with 1 Axes>"
      ]
     },
     "metadata": {
      "needs_background": "light"
     },
     "output_type": "display_data"
    },
    {
     "data": {
      "image/png": "[encoded data removed]",
      "text/plain": [
       "<Figure size 432x288 with 1 Axes>"
      ]
     },
     "metadata": {
      "needs_background": "light"
     },
     "output_type": "display_data"
    },
    {
     "data": {
      "image/png": "[encoded data removed]",
      "text/plain": [
       "<Figure size 432x288 with 1 Axes>"
      ]
     },
     "metadata": {
      "needs_background": "light"
     },
     "output_type": "display_data"
    },
    {
     "data": {
      "image/png": "[encoded data removed]",
      "text/plain": [
       "<Figure size 432x288 with 1 Axes>"
      ]
     },
     "metadata": {
      "needs_background": "light"
     },
     "output_type": "display_data"
    }
   ],
   "source": [
    "continuous = ['failures','absences','G1','G2']\n",
    "\n",
    "for it in continuous:\n",
    "    #aumentando tamanho em 50% tamanho padrão\n",
    "    #plt.figure(figsize=[9.6,7.2])\n",
    "    plt.figure()\n",
    "    sns.regplot(x=it, y='G3', data=data)"
   ]
  },
  {
   "cell_type": "markdown",
   "metadata": {},
   "source": [
    "<a href=\"#contents\" class=\"btn btn-success\" style=\"padding:10px;text-decoration:none;\">Voltar ao Topo</a>"
   ]
  },
  {
   "cell_type": "markdown",
   "metadata": {},
   "source": [
    "<a  id=\"boxplot\"></a>\n",
    "<h3>Visualizing Categorical Variables With boxplot</h3>\n",
    "\n",
    "<p>The categorical variables can have the type \"object\" or \"int64\". A good way to visualize categorical variables is by using boxplots.</p>"
   ]
  },
  {
   "cell_type": "code",
   "execution_count": 13,
   "metadata": {},
   "outputs": [],
   "source": [
    "#There are some categorical numeric features not included here - only object  \n",
    "categoricals = data.dtypes[data.dtypes == 'object'].index.tolist()"
   ]
  },
  {
   "cell_type": "code",
   "execution_count": 14,
   "metadata": {},
   "outputs": [
    {
     "data": {
      "image/png": "[encoded data removed]",
      "text/plain": [
       "<Figure size 691.2x518.4 with 1 Axes>"
      ]
     },
     "metadata": {
      "needs_background": "light"
     },
     "output_type": "display_data"
    },
    {
     "data": {
      "image/png": "[encoded data removed]",
      "text/plain": [
       "<Figure size 691.2x518.4 with 1 Axes>"
      ]
     },
     "metadata": {
      "needs_background": "light"
     },
     "output_type": "display_data"
    },
    {
     "data": {
      "image/png": "[encoded data removed]",
      "text/plain": [
       "<Figure size 691.2x518.4 with 1 Axes>"
      ]
     },
     "metadata": {
      "needs_background": "light"
     },
     "output_type": "display_data"
    },
    {
     "data": {
      "image/png": "[encoded data removed]",
      "text/plain": [
       "<Figure size 691.2x518.4 with 1 Axes>"
      ]
     },
     "metadata": {
      "needs_background": "light"
     },
     "output_type": "display_data"
    },
    {
     "data": {
      "image/png": "[encoded data removed]",
      "text/plain": [
       "<Figure size 691.2x518.4 with 1 Axes>"
      ]
     },
     "metadata": {
      "needs_background": "light"
     },
     "output_type": "display_data"
    },
    {
     "data": {
      "image/png": "[encoded data removed]",
      "text/plain": [
       "<Figure size 691.2x518.4 with 1 Axes>"
      ]
     },
     "metadata": {
      "needs_background": "light"
     },
     "output_type": "display_data"
    },
    {
     "data": {
      "image/png": "[encoded data removed]",
      "text/plain": [
       "<Figure size 691.2x518.4 with 1 Axes>"
      ]
     },
     "metadata": {
      "needs_background": "light"
     },
     "output_type": "display_data"
    },
    {
     "data": {
      "image/png": "[encoded data removed]",
      "text/plain": [
       "<Figure size 691.2x518.4 with 1 Axes>"
      ]
     },
     "metadata": {
      "needs_background": "light"
     },
     "output_type": "display_data"
    },
    {
     "data": {
      "image/png": "[encoded data removed]",
      "text/plain": [
       "<Figure size 691.2x518.4 with 1 Axes>"
      ]
     },
     "metadata": {
      "needs_background": "light"
     },
     "output_type": "display_data"
    },
    {
     "data": {
      "image/png": "[encoded data removed]",
      "text/plain": [
       "<Figure size 691.2x518.4 with 1 Axes>"
      ]
     },
     "metadata": {
      "needs_background": "light"
     },
     "output_type": "display_data"
    },
    {
     "data": {
      "image/png": "[encoded data removed]",
      "text/plain": [
       "<Figure size 691.2x518.4 with 1 Axes>"
      ]
     },
     "metadata": {
      "needs_background": "light"
     },
     "output_type": "display_data"
    },
    {
     "data": {
      "image/png": "[encoded data removed]",
      "text/plain": [
       "<Figure size 691.2x518.4 with 1 Axes>"
      ]
     },
     "metadata": {
      "needs_background": "light"
     },
     "output_type": "display_data"
    },
    {
     "data": {
      "image/png": "[encoded data removed]",
      "text/plain": [
       "<Figure size 691.2x518.4 with 1 Axes>"
      ]
     },
     "metadata": {
      "needs_background": "light"
     },
     "output_type": "display_data"
    },
    {
     "data": {
      "image/png": "[encoded data removed]",
      "text/plain": [
       "<Figure size 691.2x518.4 with 1 Axes>"
      ]
     },
     "metadata": {
      "needs_background": "light"
     },
     "output_type": "display_data"
    },
    {
     "data": {
      "image/png": "[encoded data removed]",
      "text/plain": [
       "<Figure size 691.2x518.4 with 1 Axes>"
      ]
     },
     "metadata": {
      "needs_background": "light"
     },
     "output_type": "display_data"
    },
    {
     "data": {
      "image/png": "[encoded data removed]",
      "text/plain": [
       "<Figure size 691.2x518.4 with 1 Axes>"
      ]
     },
     "metadata": {
      "needs_background": "light"
     },
     "output_type": "display_data"
    },
    {
     "data": {
      "image/png": "[encoded data removed]",
      "text/plain": [
       "<Figure size 691.2x518.4 with 1 Axes>"
      ]
     },
     "metadata": {
      "needs_background": "light"
     },
     "output_type": "display_data"
    }
   ],
   "source": [
    "for it in categoricals:\n",
    "    #aumentando tamanho em 50% tamanho padrão\n",
    "    plt.figure(figsize=[9.6,7.2])\n",
    "    sns.boxplot(x=it, y='G3', data=data)"
   ]
  },
  {
   "cell_type": "markdown",
   "metadata": {},
   "source": [
    "<a href=\"#contents\" class=\"btn btn-success\" style=\"padding:10px;text-decoration:none;\">Voltar ao Topo</a>"
   ]
  },
  {
   "cell_type": "markdown",
   "metadata": {},
   "source": [
    "<a  id=\"anova\"></a>\n",
    "<h2>ANOVA: Analysis of Variance</h2>\n",
    "<p>The Analysis of Variance  (ANOVA) is a statistical method used to test whether there are significant differences between the means of two or more groups. ANOVA returns two parameters:</p>\n",
    "\n",
    "<p><b>F-test score</b>: ANOVA assumes the means of all groups are the same, calculates how much the actual means deviate from the assumption, and reports it as the F-test score. A larger score means there is a larger difference between the means.</p>\n",
    "\n",
    "<p><b>P-value</b>:  P-value tells how statistically significant is our calculated score value.</p>\n",
    "\n",
    "<p>If our G3 variable is strongly correlated with the variable we are analyzing, expect ANOVA to return a sizeable F-test score and a small p-value.</p>"
   ]
  },
  {
   "cell_type": "code",
   "execution_count": 15,
   "metadata": {},
   "outputs": [],
   "source": [
    "from scipy import stats"
   ]
  },
  {
   "cell_type": "markdown",
   "metadata": {},
   "source": [
    "<h4>Binaries Categoricals Variables</h4>\n",
    "<p>In first, I selected only binaries features (yes-no) among all categorical variables</p>"
   ]
  },
  {
   "cell_type": "code",
   "execution_count": 16,
   "metadata": {},
   "outputs": [],
   "source": [
    "#vai guardar todos os resultados dos testes ANOVA\n",
    "all_categoricals = []"
   ]
  },
  {
   "cell_type": "code",
   "execution_count": 17,
   "metadata": {},
   "outputs": [],
   "source": [
    "binaries_categoricals = data.describe(include='object').columns.tolist()\n",
    "binaries_categoricals = [it for it in binaries_categoricals if 'yes' in data[it].unique()]"
   ]
  },
  {
   "cell_type": "code",
   "execution_count": 18,
   "metadata": {},
   "outputs": [
    {
     "name": "stdout",
     "output_type": "stream",
     "text": [
      "schoolsup => ANOVA results: F=2.865641360496058, P=0.09097103846579589\n",
      "famsup => ANOVA results: F=2.2759054076786045, P=0.13188651204202523\n",
      "paid => ANOVA results: F=1.9558102256392804, P=0.1624412486356955\n",
      "activities => ANOVA results: F=2.321335165021925, P=0.12809905950542522\n",
      "nursery => ANOVA results: F=0.5353162586382413, P=0.46464524309828237\n",
      "higher => ANOVA results: F=80.24245287906326, P=3.4996595928298785e-18\n",
      "internet => ANOVA results: F=14.897632348195058, P=0.00012489173447451603\n",
      "romantic => ANOVA results: F=5.35272292081948, P=0.02100247152464982\n"
     ]
    }
   ],
   "source": [
    "# ANOVA\n",
    "for it in binaries_categoricals:\n",
    "    grouped = data[[it,'G3']].groupby(it)\n",
    "    f_val, p_val = stats.f_oneway(grouped.get_group('yes')['G3'], grouped.get_group('no')['G3']) \n",
    "    all_categoricals.append([it, f_val, p_val])\n",
    "    print( \"{} => ANOVA results: F={}, P={}\".format(it,f_val,p_val))\n"
   ]
  },
  {
   "cell_type": "markdown",
   "metadata": {},
   "source": [
    "<p>I concluded that higher is the best binary variable to predict G3 and internet should to be considerate, although its small F-test score.</p>"
   ]
  },
  {
   "cell_type": "markdown",
   "metadata": {},
   "source": [
    "<h4>No Binaries Categoricals Variables</h4>\n",
    "<p>Variables with more than 2 values</p>"
   ]
  },
  {
   "cell_type": "code",
   "execution_count": 19,
   "metadata": {},
   "outputs": [
    {
     "data": {
      "text/plain": [
       "[('school', ['GP', 'MS']),\n",
       " ('sex', ['F', 'M']),\n",
       " ('address', ['U', 'R']),\n",
       " ('famsize', ['GT3', 'LE3']),\n",
       " ('Pstatus', ['A', 'T']),\n",
       " ('Mjob', ['at_home', 'health', 'other', 'services', 'teacher']),\n",
       " ('Fjob', ['teacher', 'other', 'services', 'health', 'at_home']),\n",
       " ('reason', ['course', 'other', 'home', 'reputation']),\n",
       " ('guardian', ['mother', 'father', 'other'])]"
      ]
     },
     "execution_count": 19,
     "metadata": {},
     "output_type": "execute_result"
    }
   ],
   "source": [
    "no_binaries_categoricals = data.describe(include='object').columns.tolist()\n",
    "[no_binaries_categoricals.remove(it) for it in binaries_categoricals]\n",
    "#these are the no binaries variables and your data range\n",
    "[(it,data[it].unique().tolist()) for it in no_binaries_categoricals]"
   ]
  },
  {
   "cell_type": "code",
   "execution_count": 20,
   "metadata": {},
   "outputs": [
    {
     "name": "stdout",
     "output_type": "stream",
     "text": [
      "ANOVA results: F=56.89067686337133, P=1.5661990923002604e-13\n"
     ]
    }
   ],
   "source": [
    "grouped = data[['school','G3']].groupby('school')\n",
    "f_val, p_val = stats.f_oneway(grouped.get_group('GP')['G3'], grouped.get_group('MS')['G3']) \n",
    "\n",
    "all_categoricals.append(['school', f_val, p_val])\n",
    "print( \"ANOVA results: F={}, P={}\".format(f_val,p_val))"
   ]
  },
  {
   "cell_type": "markdown",
   "metadata": {},
   "source": [
    "<p>school is a strong predictor</p>"
   ]
  },
  {
   "cell_type": "code",
   "execution_count": 21,
   "metadata": {},
   "outputs": [
    {
     "name": "stdout",
     "output_type": "stream",
     "text": [
      "ANOVA results: F=10.962308407124874, P=0.0009815287061373291\n"
     ]
    }
   ],
   "source": [
    "grouped = data[['sex','G3']].groupby('sex')\n",
    "f_val, p_val = stats.f_oneway(grouped.get_group('F')['G3'], grouped.get_group('M')['G3']) \n",
    "\n",
    "all_categoricals.append(['sex', f_val, p_val])\n",
    "print( \"ANOVA results: F={}, P={}\".format(f_val,p_val))"
   ]
  },
  {
   "cell_type": "markdown",
   "metadata": {},
   "source": [
    "<p>sex is a moderate predictor (small F-test)</p>"
   ]
  },
  {
   "cell_type": "code",
   "execution_count": 22,
   "metadata": {},
   "outputs": [
    {
     "name": "stdout",
     "output_type": "stream",
     "text": [
      "ANOVA results: F=18.707910527412754, P=1.7641534609222376e-05\n"
     ]
    }
   ],
   "source": [
    "grouped = data[['address','G3']].groupby('address')\n",
    "f_val, p_val = stats.f_oneway(grouped.get_group('U')['G3'], grouped.get_group('R')['G3']) \n",
    "\n",
    "all_categoricals.append(['address', f_val, p_val])\n",
    "print( \"ANOVA results: F={}, P={}\".format(f_val,p_val))"
   ]
  },
  {
   "cell_type": "markdown",
   "metadata": {},
   "source": [
    "<p>address is a good predictor</p>"
   ]
  },
  {
   "cell_type": "code",
   "execution_count": 23,
   "metadata": {},
   "outputs": [
    {
     "name": "stdout",
     "output_type": "stream",
     "text": [
      "ANOVA results: F=1.3137906447644496, P=0.2521332216658235\n"
     ]
    }
   ],
   "source": [
    "grouped = data[['famsize','G3']].groupby('famsize')\n",
    "f_val, p_val = stats.f_oneway(grouped.get_group('GT3')['G3'], grouped.get_group('LE3')['G3']) \n",
    "\n",
    "all_categoricals.append(['famsize', f_val, p_val])\n",
    "print( \"ANOVA results: F={}, P={}\".format(f_val,p_val))"
   ]
  },
  {
   "cell_type": "markdown",
   "metadata": {},
   "source": [
    "<p>famsize is a bad predictor</p>"
   ]
  },
  {
   "cell_type": "code",
   "execution_count": 24,
   "metadata": {},
   "outputs": [
    {
     "name": "stdout",
     "output_type": "stream",
     "text": [
      "ANOVA results: F=0.0003677569375753126, P=0.984705825951084\n"
     ]
    }
   ],
   "source": [
    "grouped = data[['Pstatus','G3']].groupby('Pstatus')\n",
    "f_val, p_val = stats.f_oneway(grouped.get_group('A')['G3'], grouped.get_group('T')['G3']) \n",
    "\n",
    "all_categoricals.append(['Pstatus', f_val, p_val])\n",
    "print( \"ANOVA results: F={}, P={}\".format(f_val,p_val))"
   ]
  },
  {
   "cell_type": "markdown",
   "metadata": {},
   "source": [
    "<p>Pstatus is a bad predictor</p>"
   ]
  },
  {
   "cell_type": "code",
   "execution_count": 25,
   "metadata": {},
   "outputs": [
    {
     "name": "stdout",
     "output_type": "stream",
     "text": [
      "ANOVA results: F=3.2726805958419667, P=0.01137628062360572\n"
     ]
    }
   ],
   "source": [
    "grouped = data[['Fjob','G3']].groupby('Fjob')\n",
    "f_val, p_val = stats.f_oneway(grouped.get_group('teacher')['G3'], grouped.get_group('other')['G3'],grouped.get_group('services')['G3'], grouped.get_group('health')['G3'], grouped.get_group('at_home')['G3']) \n",
    "\n",
    "all_categoricals.append(['Fjob', f_val, p_val])\n",
    "print( \"ANOVA results: F={}, P={}\".format(f_val,p_val))"
   ]
  },
  {
   "cell_type": "markdown",
   "metadata": {},
   "source": [
    "<p>Fjob is a bad predictor</p>"
   ]
  },
  {
   "cell_type": "code",
   "execution_count": 26,
   "metadata": {},
   "outputs": [
    {
     "name": "stdout",
     "output_type": "stream",
     "text": [
      "ANOVA results: F=7.37022429112183, P=8.305149884947421e-06\n"
     ]
    }
   ],
   "source": [
    "grouped = data[['Mjob','G3']].groupby('Mjob')\n",
    "f_val, p_val = stats.f_oneway(grouped.get_group('teacher')['G3'], grouped.get_group('other')['G3'],grouped.get_group('services')['G3'], grouped.get_group('health')['G3'], grouped.get_group('at_home')['G3']) \n",
    "\n",
    "all_categoricals.append(['Mjob', f_val, p_val])\n",
    "print( \"ANOVA results: F={}, P={}\".format(f_val,p_val))"
   ]
  },
  {
   "cell_type": "markdown",
   "metadata": {},
   "source": [
    "<p>Mjob is a moderate predictor (F-test small)</p>"
   ]
  },
  {
   "cell_type": "code",
   "execution_count": 27,
   "metadata": {},
   "outputs": [
    {
     "name": "stdout",
     "output_type": "stream",
     "text": [
      "ANOVA results: F=10.248465509132915, P=1.3416422874904325e-06\n"
     ]
    }
   ],
   "source": [
    "grouped = data[['reason','G3']].groupby('reason')\n",
    "f_val, p_val = stats.f_oneway(grouped.get_group('course')['G3'], grouped.get_group('other')['G3'],grouped.get_group('home')['G3'], grouped.get_group('reputation')['G3']) \n",
    "\n",
    "all_categoricals.append(['reason', f_val, p_val])\n",
    "print( \"ANOVA results: F={}, P={}\".format(f_val,p_val))"
   ]
  },
  {
   "cell_type": "markdown",
   "metadata": {},
   "source": [
    "<p>reason is a moderate predictor (F-test small)</p>"
   ]
  },
  {
   "cell_type": "code",
   "execution_count": 28,
   "metadata": {},
   "outputs": [
    {
     "name": "stdout",
     "output_type": "stream",
     "text": [
      "ANOVA results: F=2.63816697870449, P=0.07226239503367193\n"
     ]
    }
   ],
   "source": [
    "grouped = data[['guardian','G3']].groupby('guardian')\n",
    "f_val, p_val = stats.f_oneway(grouped.get_group('mother')['G3'], grouped.get_group('other')['G3'],grouped.get_group('father')['G3']) \n",
    "\n",
    "all_categoricals.append(['guardian', f_val, p_val])\n",
    "print( \"ANOVA results: F={}, P={}\".format(f_val,p_val))"
   ]
  },
  {
   "cell_type": "markdown",
   "metadata": {},
   "source": [
    "<p>guardian is a bad predictor</p>"
   ]
  },
  {
   "cell_type": "markdown",
   "metadata": {},
   "source": [
    "<h4>Numerical Categoricals Variables</h4>"
   ]
  },
  {
   "cell_type": "code",
   "execution_count": 29,
   "metadata": {},
   "outputs": [
    {
     "data": {
      "text/plain": [
       "[('age', [18, 17, 15, 16, 19, 22, 20, 21]),\n",
       " ('Medu', [4, 1, 3, 2, 0]),\n",
       " ('Fedu', [4, 1, 2, 3, 0]),\n",
       " ('traveltime', [2, 1, 3, 4]),\n",
       " ('studytime', [2, 3, 1, 4]),\n",
       " ('famrel', [4, 5, 3, 1, 2]),\n",
       " ('freetime', [3, 2, 4, 1, 5]),\n",
       " ('goout', [4, 3, 2, 1, 5]),\n",
       " ('Dalc', [1, 2, 5, 3, 4]),\n",
       " ('Walc', [1, 3, 2, 4, 5]),\n",
       " ('health', [3, 5, 1, 2, 4])]"
      ]
     },
     "execution_count": 29,
     "metadata": {},
     "output_type": "execute_result"
    }
   ],
   "source": [
    "numerical_categoricals = data.describe(include='all').columns.tolist()\n",
    "\n",
    "[numerical_categoricals.remove(it) for it in binaries_categoricals]\n",
    "[numerical_categoricals.remove(it) for it in no_binaries_categoricals]\n",
    "[numerical_categoricals.remove(it) for it in continuous]\n",
    "numerical_categoricals.remove('G3')\n",
    "\n",
    "[(it,data[it].unique().tolist()) for it in numerical_categoricals]"
   ]
  },
  {
   "cell_type": "code",
   "execution_count": 30,
   "metadata": {},
   "outputs": [
    {
     "name": "stdout",
     "output_type": "stream",
     "text": [
      "ANOVA results: F=3.687016712285037, P=0.000643974986822144\n"
     ]
    }
   ],
   "source": [
    "grouped = data[['age','G3']].groupby('age')\n",
    "f_val, p_val = stats.f_oneway(\n",
    "    grouped.get_group(15)['G3'], \n",
    "    grouped.get_group(16)['G3'],\n",
    "    grouped.get_group(17)['G3'],\n",
    "    grouped.get_group(18)['G3'],\n",
    "    grouped.get_group(19)['G3'],\n",
    "    grouped.get_group(20)['G3'],\n",
    "    grouped.get_group(21)['G3'],\n",
    "    grouped.get_group(22)['G3'],    \n",
    ")\n",
    "\n",
    "all_categoricals.append(['age', f_val, p_val])\n",
    "print( \"ANOVA results: F={}, P={}\".format(f_val,p_val))"
   ]
  },
  {
   "cell_type": "markdown",
   "metadata": {},
   "source": [
    "<p>age is a moderate predictor (F-test small)</p>"
   ]
  },
  {
   "cell_type": "code",
   "execution_count": 31,
   "metadata": {},
   "outputs": [
    {
     "name": "stdout",
     "output_type": "stream",
     "text": [
      "ANOVA results: F=10.764276866816427, P=1.8856851949016492e-08\n"
     ]
    }
   ],
   "source": [
    "grouped = data[['Medu','G3']].groupby('Medu')\n",
    "f_val, p_val = stats.f_oneway(\n",
    "    grouped.get_group(0)['G3'], \n",
    "    grouped.get_group(1)['G3'],\n",
    "    grouped.get_group(2)['G3'],\n",
    "    grouped.get_group(3)['G3'],\n",
    "    grouped.get_group(4)['G3']    \n",
    ") \n",
    "\n",
    "all_categoricals.append(['Medu', f_val, p_val])\n",
    "print( \"ANOVA results: F={}, P={}\".format(f_val,p_val))"
   ]
  },
  {
   "cell_type": "markdown",
   "metadata": {},
   "source": [
    "<p>Medu is a moderate predictor (F-test small)</p>"
   ]
  },
  {
   "cell_type": "code",
   "execution_count": 32,
   "metadata": {},
   "outputs": [
    {
     "name": "stdout",
     "output_type": "stream",
     "text": [
      "ANOVA results: F=8.223361707146886, P=1.7991136867942303e-06\n"
     ]
    }
   ],
   "source": [
    "grouped = data[['Fedu','G3']].groupby('Fedu')\n",
    "f_val, p_val = stats.f_oneway(\n",
    "    grouped.get_group(0)['G3'], \n",
    "    grouped.get_group(1)['G3'],\n",
    "    grouped.get_group(2)['G3'],\n",
    "    grouped.get_group(3)['G3'],\n",
    "    grouped.get_group(4)['G3']    \n",
    ") \n",
    "all_categoricals.append(['Fedu', f_val, p_val])\n",
    "print( \"ANOVA results: F={}, P={}\".format(f_val,p_val))"
   ]
  },
  {
   "cell_type": "markdown",
   "metadata": {},
   "source": [
    "<p>Fedu is a moderate predictor (F-test small)</p>"
   ]
  },
  {
   "cell_type": "code",
   "execution_count": 33,
   "metadata": {},
   "outputs": [
    {
     "name": "stdout",
     "output_type": "stream",
     "text": [
      "ANOVA results: F=3.658840248740581, P=0.012321097062069852\n"
     ]
    }
   ],
   "source": [
    "grouped = data[['traveltime','G3']].groupby('traveltime')\n",
    "f_val, p_val = stats.f_oneway(\n",
    "    grouped.get_group(1)['G3'], \n",
    "    grouped.get_group(2)['G3'],\n",
    "    grouped.get_group(3)['G3'],\n",
    "    grouped.get_group(4)['G3']   \n",
    ") \n",
    "all_categoricals.append(['traveltime', f_val, p_val])\n",
    "print( \"ANOVA results: F={}, P={}\".format(f_val,p_val))"
   ]
  },
  {
   "cell_type": "markdown",
   "metadata": {},
   "source": [
    "<p>traveltime is a bad predictor</p>"
   ]
  },
  {
   "cell_type": "code",
   "execution_count": 34,
   "metadata": {},
   "outputs": [
    {
     "name": "stdout",
     "output_type": "stream",
     "text": [
      "ANOVA results: F=15.876267993177121, P=5.705728458962843e-10\n"
     ]
    }
   ],
   "source": [
    "grouped = data[['studytime','G3']].groupby('studytime')\n",
    "f_val, p_val = stats.f_oneway(\n",
    "    grouped.get_group(1)['G3'], \n",
    "    grouped.get_group(2)['G3'],\n",
    "    grouped.get_group(3)['G3'],\n",
    "    grouped.get_group(4)['G3']   \n",
    ") \n",
    "all_categoricals.append(['studytime', f_val, p_val])\n",
    "print( \"ANOVA results: F={}, P={}\".format(f_val,p_val))"
   ]
  },
  {
   "cell_type": "markdown",
   "metadata": {},
   "source": [
    "<p>studytime is a good predictor</p>"
   ]
  },
  {
   "cell_type": "code",
   "execution_count": 35,
   "metadata": {},
   "outputs": [
    {
     "name": "stdout",
     "output_type": "stream",
     "text": [
      "ANOVA results: F=3.6779077023875293, P=0.005684830602219902\n"
     ]
    }
   ],
   "source": [
    "grouped = data[['famrel','G3']].groupby('famrel')\n",
    "f_val, p_val = stats.f_oneway(\n",
    "    grouped.get_group(1)['G3'], \n",
    "    grouped.get_group(2)['G3'],\n",
    "    grouped.get_group(3)['G3'],\n",
    "    grouped.get_group(4)['G3'],\n",
    "    grouped.get_group(5)['G3']    \n",
    ")\n",
    "all_categoricals.append(['famrel', f_val, p_val])\n",
    "print( \"ANOVA results: F={}, P={}\".format(f_val,p_val))"
   ]
  },
  {
   "cell_type": "markdown",
   "metadata": {},
   "source": [
    "<p>famrel is a bad predictor</p>"
   ]
  },
  {
   "cell_type": "code",
   "execution_count": 36,
   "metadata": {},
   "outputs": [
    {
     "name": "stdout",
     "output_type": "stream",
     "text": [
      "ANOVA results: F=4.488592643212422, P=0.001389612248145489\n"
     ]
    }
   ],
   "source": [
    "grouped = data[['freetime','G3']].groupby('freetime')\n",
    "f_val, p_val = stats.f_oneway(\n",
    "    grouped.get_group(1)['G3'], \n",
    "    grouped.get_group(2)['G3'],\n",
    "    grouped.get_group(3)['G3'],\n",
    "    grouped.get_group(4)['G3'],\n",
    "    grouped.get_group(5)['G3']    \n",
    ") \n",
    "all_categoricals.append(['freetime', f_val, p_val])\n",
    "print( \"ANOVA results: F={}, P={}\".format(f_val,p_val))"
   ]
  },
  {
   "cell_type": "markdown",
   "metadata": {},
   "source": [
    "<p>freetime is a bad predictor</p>"
   ]
  },
  {
   "cell_type": "code",
   "execution_count": 37,
   "metadata": {},
   "outputs": [
    {
     "name": "stdout",
     "output_type": "stream",
     "text": [
      "ANOVA results: F=6.985936355765734, P=1.6524803939952414e-05\n"
     ]
    }
   ],
   "source": [
    "grouped = data[['goout','G3']].groupby('goout')\n",
    "f_val, p_val = stats.f_oneway(\n",
    "    grouped.get_group(1)['G3'], \n",
    "    grouped.get_group(2)['G3'],\n",
    "    grouped.get_group(3)['G3'],\n",
    "    grouped.get_group(4)['G3'],\n",
    "    grouped.get_group(5)['G3']    \n",
    ") \n",
    "all_categoricals.append(['goout', f_val, p_val])\n",
    "print( \"ANOVA results: F={}, P={}\".format(f_val,p_val))"
   ]
  },
  {
   "cell_type": "markdown",
   "metadata": {},
   "source": [
    "<p>goout is a moderate predictor (F-test small)</p>"
   ]
  },
  {
   "cell_type": "code",
   "execution_count": 38,
   "metadata": {},
   "outputs": [
    {
     "name": "stdout",
     "output_type": "stream",
     "text": [
      "ANOVA results: F=8.193253061643448, P=1.8989671842550212e-06\n"
     ]
    }
   ],
   "source": [
    "grouped = data[['Dalc','G3']].groupby('Dalc')\n",
    "f_val, p_val = stats.f_oneway(\n",
    "    grouped.get_group(1)['G3'], \n",
    "    grouped.get_group(2)['G3'],\n",
    "    grouped.get_group(3)['G3'],\n",
    "    grouped.get_group(4)['G3'],\n",
    "    grouped.get_group(5)['G3']    \n",
    ") \n",
    "all_categoricals.append(['Dalc', f_val, p_val])\n",
    "print( \"ANOVA results: F={}, P={}\".format(f_val,p_val))"
   ]
  },
  {
   "cell_type": "markdown",
   "metadata": {},
   "source": [
    "<p>Dalc is a moderate predictor (F-test small)</p>"
   ]
  },
  {
   "cell_type": "code",
   "execution_count": 39,
   "metadata": {},
   "outputs": [
    {
     "name": "stdout",
     "output_type": "stream",
     "text": [
      "ANOVA results: F=5.535392164574902, P=0.00021933854464991427\n"
     ]
    }
   ],
   "source": [
    "grouped = data[['Walc','G3']].groupby('Walc')\n",
    "f_val, p_val = stats.f_oneway(\n",
    "    grouped.get_group(1)['G3'], \n",
    "    grouped.get_group(2)['G3'],\n",
    "    grouped.get_group(3)['G3'],\n",
    "    grouped.get_group(4)['G3'],\n",
    "    grouped.get_group(5)['G3']    \n",
    ") \n",
    "all_categoricals.append(['Walc', f_val, p_val])\n",
    "print( \"ANOVA results: F={}, P={}\".format(f_val,p_val))"
   ]
  },
  {
   "cell_type": "markdown",
   "metadata": {},
   "source": [
    "<p>Walc is a moderate predictor (F-test small)</p>"
   ]
  },
  {
   "cell_type": "code",
   "execution_count": 40,
   "metadata": {},
   "outputs": [
    {
     "name": "stdout",
     "output_type": "stream",
     "text": [
      "ANOVA results: F=2.4402866623797093, P=0.04574054303645168\n"
     ]
    }
   ],
   "source": [
    "grouped = data[['health','G3']].groupby('health')\n",
    "f_val, p_val = stats.f_oneway(\n",
    "    grouped.get_group(1)['G3'], \n",
    "    grouped.get_group(2)['G3'],\n",
    "    grouped.get_group(3)['G3'],\n",
    "    grouped.get_group(4)['G3'],\n",
    "    grouped.get_group(5)['G3']    \n",
    ") \n",
    "all_categoricals.append(['health', f_val, p_val])\n",
    "print( \"ANOVA results: F={}, P={}\".format(f_val,p_val))"
   ]
  },
  {
   "cell_type": "markdown",
   "metadata": {},
   "source": [
    "<p>health is a bad predictor</p>"
   ]
  },
  {
   "cell_type": "markdown",
   "metadata": {},
   "source": [
    "<a href=\"#contents\" class=\"btn btn-success\" style=\"padding:10px;text-decoration:none;\">Voltar ao Topo</a>"
   ]
  },
  {
   "cell_type": "markdown",
   "metadata": {},
   "source": [
    "<a  id=\"features-selected\"></a>\n",
    "<h2>Features Selected to Model</h2>"
   ]
  },
  {
   "cell_type": "markdown",
   "metadata": {},
   "source": [
    "- Continuous\n",
    "    - G1\n",
    "    - G2    \n",
    "- Binary Categoricals\n",
    "    - higher\n",
    "    - internet\n",
    "- No Binary Categoricals\n",
    "    - school    \n",
    "    - address\n",
    "    - sex\n",
    "    - reason\n",
    "    - Mjob\n",
    "- Numerical Categoricals\n",
    "    - studytime\n",
    "    - Medu\n",
    "    - Fedu\n",
    "    - Dalc\n",
    "    - goout\n",
    "    - Walc\n",
    "    - age\n",
    "    \n",
    "\n",
    "After ANOVA test and regplot visualization I selected 16 variables.\n",
    "See below the F-test score and p-value of selected categorical variables sorted by F-score and P-value. Only p-values greater than 0.001 was considerate."
   ]
  },
  {
   "cell_type": "code",
   "execution_count": 41,
   "metadata": {},
   "outputs": [],
   "source": [
    "all_categoricals = pd.DataFrame(\n",
    "    data=all_categoricals, \n",
    "    columns=['feature', 'F-score', 'P-value']\n",
    ").set_index(\n",
    "    'feature'\n",
    ").sort_values(['F-score', 'P-value'], ascending=False)"
   ]
  },
  {
   "cell_type": "code",
   "execution_count": 42,
   "metadata": {},
   "outputs": [
    {
     "data": {
      "text/html": [
       "<div>\n",
       "<style scoped>\n",
       "    .dataframe tbody tr th:only-of-type {\n",
       "        vertical-align: middle;\n",
       "    }\n",
       "\n",
       "    .dataframe tbody tr th {\n",
       "        vertical-align: top;\n",
       "    }\n",
       "\n",
       "    .dataframe thead th {\n",
       "        text-align: right;\n",
       "    }\n",
       "</style>\n",
       "<table border=\"1\" class=\"dataframe\">\n",
       "  <thead>\n",
       "    <tr style=\"text-align: right;\">\n",
       "      <th></th>\n",
       "      <th>F-score</th>\n",
       "      <th>P-value</th>\n",
       "    </tr>\n",
       "    <tr>\n",
       "      <th>feature</th>\n",
       "      <th></th>\n",
       "      <th></th>\n",
       "    </tr>\n",
       "  </thead>\n",
       "  <tbody>\n",
       "    <tr>\n",
       "      <th>higher</th>\n",
       "      <td>80.242453</td>\n",
       "      <td>3.499660e-18</td>\n",
       "    </tr>\n",
       "    <tr>\n",
       "      <th>school</th>\n",
       "      <td>56.890677</td>\n",
       "      <td>1.566199e-13</td>\n",
       "    </tr>\n",
       "    <tr>\n",
       "      <th>address</th>\n",
       "      <td>18.707911</td>\n",
       "      <td>1.764153e-05</td>\n",
       "    </tr>\n",
       "    <tr>\n",
       "      <th>studytime</th>\n",
       "      <td>15.876268</td>\n",
       "      <td>5.705728e-10</td>\n",
       "    </tr>\n",
       "    <tr>\n",
       "      <th>internet</th>\n",
       "      <td>14.897632</td>\n",
       "      <td>1.248917e-04</td>\n",
       "    </tr>\n",
       "    <tr>\n",
       "      <th>sex</th>\n",
       "      <td>10.962308</td>\n",
       "      <td>9.815287e-04</td>\n",
       "    </tr>\n",
       "    <tr>\n",
       "      <th>Medu</th>\n",
       "      <td>10.764277</td>\n",
       "      <td>1.885685e-08</td>\n",
       "    </tr>\n",
       "    <tr>\n",
       "      <th>reason</th>\n",
       "      <td>10.248466</td>\n",
       "      <td>1.341642e-06</td>\n",
       "    </tr>\n",
       "    <tr>\n",
       "      <th>Fedu</th>\n",
       "      <td>8.223362</td>\n",
       "      <td>1.799114e-06</td>\n",
       "    </tr>\n",
       "    <tr>\n",
       "      <th>Dalc</th>\n",
       "      <td>8.193253</td>\n",
       "      <td>1.898967e-06</td>\n",
       "    </tr>\n",
       "    <tr>\n",
       "      <th>Mjob</th>\n",
       "      <td>7.370224</td>\n",
       "      <td>8.305150e-06</td>\n",
       "    </tr>\n",
       "    <tr>\n",
       "      <th>goout</th>\n",
       "      <td>6.985936</td>\n",
       "      <td>1.652480e-05</td>\n",
       "    </tr>\n",
       "    <tr>\n",
       "      <th>Walc</th>\n",
       "      <td>5.535392</td>\n",
       "      <td>2.193385e-04</td>\n",
       "    </tr>\n",
       "    <tr>\n",
       "      <th>age</th>\n",
       "      <td>3.687017</td>\n",
       "      <td>6.439750e-04</td>\n",
       "    </tr>\n",
       "  </tbody>\n",
       "</table>\n",
       "</div>"
      ],
      "text/plain": [
       "             F-score       P-value\n",
       "feature                           \n",
       "higher     80.242453  3.499660e-18\n",
       "school     56.890677  1.566199e-13\n",
       "address    18.707911  1.764153e-05\n",
       "studytime  15.876268  5.705728e-10\n",
       "internet   14.897632  1.248917e-04\n",
       "sex        10.962308  9.815287e-04\n",
       "Medu       10.764277  1.885685e-08\n",
       "reason     10.248466  1.341642e-06\n",
       "Fedu        8.223362  1.799114e-06\n",
       "Dalc        8.193253  1.898967e-06\n",
       "Mjob        7.370224  8.305150e-06\n",
       "goout       6.985936  1.652480e-05\n",
       "Walc        5.535392  2.193385e-04\n",
       "age         3.687017  6.439750e-04"
      ]
     },
     "execution_count": 42,
     "metadata": {},
     "output_type": "execute_result"
    }
   ],
   "source": [
    "all_categoricals = all_categoricals[all_categoricals['P-value'] < 0.001]\n",
    "all_categoricals"
   ]
  },
  {
   "cell_type": "markdown",
   "metadata": {},
   "source": [
    "Finally, the features selected for the model are <strong>all_categoricals with p-value less than 0.001</strong>, continuous variables <strong>G1</strong> and <strong>G2</strong> and the target <strong>G3</strong>."
   ]
  },
  {
   "cell_type": "code",
   "execution_count": 43,
   "metadata": {
    "scrolled": true
   },
   "outputs": [],
   "source": [
    "features_selected = all_categoricals.index.tolist() + ['G1','G2', 'G3']"
   ]
  },
  {
   "cell_type": "code",
   "execution_count": 44,
   "metadata": {},
   "outputs": [],
   "source": [
    "data_to_model = data[features_selected].copy()"
   ]
  },
  {
   "cell_type": "markdown",
   "metadata": {},
   "source": [
    "<a href=\"#contents\" class=\"btn btn-success\" style=\"padding:10px;text-decoration:none;\">Voltar ao Topo</a>"
   ]
  },
  {
   "cell_type": "markdown",
   "metadata": {},
   "source": [
    "<a id=\"data-transform\"></a>\n",
    "<h2>Data Transforming</h2>"
   ]
  },
  {
   "cell_type": "markdown",
   "metadata": {},
   "source": [
    "<h3>Data Normalization (Numerical)</h3>"
   ]
  },
  {
   "cell_type": "raw",
   "metadata": {},
   "source": [
    "simple_featuring_scaling = lambda x: x / x.max()\n",
    "\n",
    "min_max = lambda x: x - x.min() / x.max() - x.min()\n",
    "\n",
    "z_score = lambda x: x - x.mean() / x.std()"
   ]
  },
  {
   "cell_type": "code",
   "execution_count": 45,
   "metadata": {},
   "outputs": [
    {
     "data": {
      "text/html": [
       "<div>\n",
       "<style scoped>\n",
       "    .dataframe tbody tr th:only-of-type {\n",
       "        vertical-align: middle;\n",
       "    }\n",
       "\n",
       "    .dataframe tbody tr th {\n",
       "        vertical-align: top;\n",
       "    }\n",
       "\n",
       "    .dataframe thead th {\n",
       "        text-align: right;\n",
       "    }\n",
       "</style>\n",
       "<table border=\"1\" class=\"dataframe\">\n",
       "  <thead>\n",
       "    <tr style=\"text-align: right;\">\n",
       "      <th></th>\n",
       "      <th>studytime</th>\n",
       "      <th>Medu</th>\n",
       "      <th>Fedu</th>\n",
       "      <th>Dalc</th>\n",
       "      <th>goout</th>\n",
       "      <th>Walc</th>\n",
       "      <th>age</th>\n",
       "      <th>G1</th>\n",
       "      <th>G2</th>\n",
       "      <th>G3</th>\n",
       "    </tr>\n",
       "  </thead>\n",
       "  <tbody>\n",
       "    <tr>\n",
       "      <th>0</th>\n",
       "      <td>0.50</td>\n",
       "      <td>1.00</td>\n",
       "      <td>1.00</td>\n",
       "      <td>0.2</td>\n",
       "      <td>0.8</td>\n",
       "      <td>0.2</td>\n",
       "      <td>0.818182</td>\n",
       "      <td>0.000000</td>\n",
       "      <td>0.578947</td>\n",
       "      <td>0.578947</td>\n",
       "    </tr>\n",
       "    <tr>\n",
       "      <th>1</th>\n",
       "      <td>0.50</td>\n",
       "      <td>0.25</td>\n",
       "      <td>0.25</td>\n",
       "      <td>0.2</td>\n",
       "      <td>0.6</td>\n",
       "      <td>0.2</td>\n",
       "      <td>0.772727</td>\n",
       "      <td>0.473684</td>\n",
       "      <td>0.578947</td>\n",
       "      <td>0.578947</td>\n",
       "    </tr>\n",
       "    <tr>\n",
       "      <th>2</th>\n",
       "      <td>0.50</td>\n",
       "      <td>0.25</td>\n",
       "      <td>0.25</td>\n",
       "      <td>0.4</td>\n",
       "      <td>0.4</td>\n",
       "      <td>0.6</td>\n",
       "      <td>0.681818</td>\n",
       "      <td>0.631579</td>\n",
       "      <td>0.684211</td>\n",
       "      <td>0.631579</td>\n",
       "    </tr>\n",
       "    <tr>\n",
       "      <th>3</th>\n",
       "      <td>0.75</td>\n",
       "      <td>1.00</td>\n",
       "      <td>0.50</td>\n",
       "      <td>0.2</td>\n",
       "      <td>0.4</td>\n",
       "      <td>0.2</td>\n",
       "      <td>0.681818</td>\n",
       "      <td>0.736842</td>\n",
       "      <td>0.736842</td>\n",
       "      <td>0.736842</td>\n",
       "    </tr>\n",
       "    <tr>\n",
       "      <th>4</th>\n",
       "      <td>0.50</td>\n",
       "      <td>0.75</td>\n",
       "      <td>0.75</td>\n",
       "      <td>0.2</td>\n",
       "      <td>0.4</td>\n",
       "      <td>0.4</td>\n",
       "      <td>0.727273</td>\n",
       "      <td>0.578947</td>\n",
       "      <td>0.684211</td>\n",
       "      <td>0.684211</td>\n",
       "    </tr>\n",
       "  </tbody>\n",
       "</table>\n",
       "</div>"
      ],
      "text/plain": [
       "   studytime  Medu  Fedu  Dalc  goout  Walc       age        G1        G2  \\\n",
       "0       0.50  1.00  1.00   0.2    0.8   0.2  0.818182  0.000000  0.578947   \n",
       "1       0.50  0.25  0.25   0.2    0.6   0.2  0.772727  0.473684  0.578947   \n",
       "2       0.50  0.25  0.25   0.4    0.4   0.6  0.681818  0.631579  0.684211   \n",
       "3       0.75  1.00  0.50   0.2    0.4   0.2  0.681818  0.736842  0.736842   \n",
       "4       0.50  0.75  0.75   0.2    0.4   0.4  0.727273  0.578947  0.684211   \n",
       "\n",
       "         G3  \n",
       "0  0.578947  \n",
       "1  0.578947  \n",
       "2  0.631579  \n",
       "3  0.736842  \n",
       "4  0.684211  "
      ]
     },
     "execution_count": 45,
     "metadata": {},
     "output_type": "execute_result"
    }
   ],
   "source": [
    "to_normalize = data_to_model.dtypes[data_to_model.dtypes != 'object'].index.tolist()\n",
    "for it in to_normalize:\n",
    "    data_to_model[it] = data_to_model[it] / data_to_model[it].max()\n",
    "data_to_model[to_normalize].head()"
   ]
  },
  {
   "cell_type": "markdown",
   "metadata": {},
   "source": [
    "<h3>Getting Dummies Variables (Categorical)</h3>"
   ]
  },
  {
   "cell_type": "code",
   "execution_count": 46,
   "metadata": {},
   "outputs": [
    {
     "data": {
      "text/plain": [
       "['higher', 'school', 'address', 'internet', 'sex', 'reason', 'Mjob']"
      ]
     },
     "execution_count": 46,
     "metadata": {},
     "output_type": "execute_result"
    }
   ],
   "source": [
    "dummies = data_to_model.dtypes[data.dtypes == 'object'].index.values.tolist()\n",
    "dummies"
   ]
  },
  {
   "cell_type": "code",
   "execution_count": 47,
   "metadata": {},
   "outputs": [
    {
     "data": {
      "text/html": [
       "<div>\n",
       "<style scoped>\n",
       "    .dataframe tbody tr th:only-of-type {\n",
       "        vertical-align: middle;\n",
       "    }\n",
       "\n",
       "    .dataframe tbody tr th {\n",
       "        vertical-align: top;\n",
       "    }\n",
       "\n",
       "    .dataframe thead th {\n",
       "        text-align: right;\n",
       "    }\n",
       "</style>\n",
       "<table border=\"1\" class=\"dataframe\">\n",
       "  <thead>\n",
       "    <tr style=\"text-align: right;\">\n",
       "      <th></th>\n",
       "      <th>higher_no</th>\n",
       "      <th>higher_yes</th>\n",
       "      <th>school_GP</th>\n",
       "      <th>school_MS</th>\n",
       "      <th>address_R</th>\n",
       "      <th>address_U</th>\n",
       "      <th>internet_no</th>\n",
       "      <th>internet_yes</th>\n",
       "      <th>sex_F</th>\n",
       "      <th>sex_M</th>\n",
       "      <th>reason_course</th>\n",
       "      <th>reason_home</th>\n",
       "      <th>reason_other</th>\n",
       "      <th>reason_reputation</th>\n",
       "      <th>Mjob_at_home</th>\n",
       "      <th>Mjob_health</th>\n",
       "      <th>Mjob_other</th>\n",
       "      <th>Mjob_services</th>\n",
       "      <th>Mjob_teacher</th>\n",
       "    </tr>\n",
       "  </thead>\n",
       "  <tbody>\n",
       "    <tr>\n",
       "      <th>0</th>\n",
       "      <td>0</td>\n",
       "      <td>1</td>\n",
       "      <td>1</td>\n",
       "      <td>0</td>\n",
       "      <td>0</td>\n",
       "      <td>1</td>\n",
       "      <td>1</td>\n",
       "      <td>0</td>\n",
       "      <td>1</td>\n",
       "      <td>0</td>\n",
       "      <td>1</td>\n",
       "      <td>0</td>\n",
       "      <td>0</td>\n",
       "      <td>0</td>\n",
       "      <td>1</td>\n",
       "      <td>0</td>\n",
       "      <td>0</td>\n",
       "      <td>0</td>\n",
       "      <td>0</td>\n",
       "    </tr>\n",
       "    <tr>\n",
       "      <th>1</th>\n",
       "      <td>0</td>\n",
       "      <td>1</td>\n",
       "      <td>1</td>\n",
       "      <td>0</td>\n",
       "      <td>0</td>\n",
       "      <td>1</td>\n",
       "      <td>0</td>\n",
       "      <td>1</td>\n",
       "      <td>1</td>\n",
       "      <td>0</td>\n",
       "      <td>1</td>\n",
       "      <td>0</td>\n",
       "      <td>0</td>\n",
       "      <td>0</td>\n",
       "      <td>1</td>\n",
       "      <td>0</td>\n",
       "      <td>0</td>\n",
       "      <td>0</td>\n",
       "      <td>0</td>\n",
       "    </tr>\n",
       "    <tr>\n",
       "      <th>2</th>\n",
       "      <td>0</td>\n",
       "      <td>1</td>\n",
       "      <td>1</td>\n",
       "      <td>0</td>\n",
       "      <td>0</td>\n",
       "      <td>1</td>\n",
       "      <td>0</td>\n",
       "      <td>1</td>\n",
       "      <td>1</td>\n",
       "      <td>0</td>\n",
       "      <td>0</td>\n",
       "      <td>0</td>\n",
       "      <td>1</td>\n",
       "      <td>0</td>\n",
       "      <td>1</td>\n",
       "      <td>0</td>\n",
       "      <td>0</td>\n",
       "      <td>0</td>\n",
       "      <td>0</td>\n",
       "    </tr>\n",
       "    <tr>\n",
       "      <th>3</th>\n",
       "      <td>0</td>\n",
       "      <td>1</td>\n",
       "      <td>1</td>\n",
       "      <td>0</td>\n",
       "      <td>0</td>\n",
       "      <td>1</td>\n",
       "      <td>0</td>\n",
       "      <td>1</td>\n",
       "      <td>1</td>\n",
       "      <td>0</td>\n",
       "      <td>0</td>\n",
       "      <td>1</td>\n",
       "      <td>0</td>\n",
       "      <td>0</td>\n",
       "      <td>0</td>\n",
       "      <td>1</td>\n",
       "      <td>0</td>\n",
       "      <td>0</td>\n",
       "      <td>0</td>\n",
       "    </tr>\n",
       "    <tr>\n",
       "      <th>4</th>\n",
       "      <td>0</td>\n",
       "      <td>1</td>\n",
       "      <td>1</td>\n",
       "      <td>0</td>\n",
       "      <td>0</td>\n",
       "      <td>1</td>\n",
       "      <td>1</td>\n",
       "      <td>0</td>\n",
       "      <td>1</td>\n",
       "      <td>0</td>\n",
       "      <td>0</td>\n",
       "      <td>1</td>\n",
       "      <td>0</td>\n",
       "      <td>0</td>\n",
       "      <td>0</td>\n",
       "      <td>0</td>\n",
       "      <td>1</td>\n",
       "      <td>0</td>\n",
       "      <td>0</td>\n",
       "    </tr>\n",
       "  </tbody>\n",
       "</table>\n",
       "</div>"
      ],
      "text/plain": [
       "   higher_no  higher_yes  school_GP  school_MS  address_R  address_U  \\\n",
       "0          0           1          1          0          0          1   \n",
       "1          0           1          1          0          0          1   \n",
       "2          0           1          1          0          0          1   \n",
       "3          0           1          1          0          0          1   \n",
       "4          0           1          1          0          0          1   \n",
       "\n",
       "   internet_no  internet_yes  sex_F  sex_M  reason_course  reason_home  \\\n",
       "0            1             0      1      0              1            0   \n",
       "1            0             1      1      0              1            0   \n",
       "2            0             1      1      0              0            0   \n",
       "3            0             1      1      0              0            1   \n",
       "4            1             0      1      0              0            1   \n",
       "\n",
       "   reason_other  reason_reputation  Mjob_at_home  Mjob_health  Mjob_other  \\\n",
       "0             0                  0             1            0           0   \n",
       "1             0                  0             1            0           0   \n",
       "2             1                  0             1            0           0   \n",
       "3             0                  0             0            1           0   \n",
       "4             0                  0             0            0           1   \n",
       "\n",
       "   Mjob_services  Mjob_teacher  \n",
       "0              0             0  \n",
       "1              0             0  \n",
       "2              0             0  \n",
       "3              0             0  \n",
       "4              0             0  "
      ]
     },
     "execution_count": 47,
     "metadata": {},
     "output_type": "execute_result"
    }
   ],
   "source": [
    "df_dummies = pd.DataFrame()\n",
    "for it in dummies:\n",
    "    df_dummies = pd.concat([df_dummies, pd.get_dummies(data_to_model[it], prefix=it)], sort=False, axis=1)\n",
    "df_dummies.head()"
   ]
  },
  {
   "cell_type": "code",
   "execution_count": 48,
   "metadata": {},
   "outputs": [],
   "source": [
    "data_to_model = data_to_model.drop(dummies, axis=1)\n",
    "data_to_model = pd.concat([df_dummies, data_to_model], sort=False, axis=1)"
   ]
  },
  {
   "cell_type": "code",
   "execution_count": 49,
   "metadata": {
    "scrolled": true
   },
   "outputs": [
    {
     "data": {
      "text/html": [
       "<div>\n",
       "<style scoped>\n",
       "    .dataframe tbody tr th:only-of-type {\n",
       "        vertical-align: middle;\n",
       "    }\n",
       "\n",
       "    .dataframe tbody tr th {\n",
       "        vertical-align: top;\n",
       "    }\n",
       "\n",
       "    .dataframe thead th {\n",
       "        text-align: right;\n",
       "    }\n",
       "</style>\n",
       "<table border=\"1\" class=\"dataframe\">\n",
       "  <thead>\n",
       "    <tr style=\"text-align: right;\">\n",
       "      <th></th>\n",
       "      <th>higher_no</th>\n",
       "      <th>higher_yes</th>\n",
       "      <th>school_GP</th>\n",
       "      <th>school_MS</th>\n",
       "      <th>address_R</th>\n",
       "      <th>address_U</th>\n",
       "      <th>internet_no</th>\n",
       "      <th>internet_yes</th>\n",
       "      <th>sex_F</th>\n",
       "      <th>sex_M</th>\n",
       "      <th>...</th>\n",
       "      <th>studytime</th>\n",
       "      <th>Medu</th>\n",
       "      <th>Fedu</th>\n",
       "      <th>Dalc</th>\n",
       "      <th>goout</th>\n",
       "      <th>Walc</th>\n",
       "      <th>age</th>\n",
       "      <th>G1</th>\n",
       "      <th>G2</th>\n",
       "      <th>G3</th>\n",
       "    </tr>\n",
       "  </thead>\n",
       "  <tbody>\n",
       "    <tr>\n",
       "      <th>0</th>\n",
       "      <td>0</td>\n",
       "      <td>1</td>\n",
       "      <td>1</td>\n",
       "      <td>0</td>\n",
       "      <td>0</td>\n",
       "      <td>1</td>\n",
       "      <td>1</td>\n",
       "      <td>0</td>\n",
       "      <td>1</td>\n",
       "      <td>0</td>\n",
       "      <td>...</td>\n",
       "      <td>0.50</td>\n",
       "      <td>1.00</td>\n",
       "      <td>1.00</td>\n",
       "      <td>0.2</td>\n",
       "      <td>0.8</td>\n",
       "      <td>0.2</td>\n",
       "      <td>0.818182</td>\n",
       "      <td>0.000000</td>\n",
       "      <td>0.578947</td>\n",
       "      <td>0.578947</td>\n",
       "    </tr>\n",
       "    <tr>\n",
       "      <th>1</th>\n",
       "      <td>0</td>\n",
       "      <td>1</td>\n",
       "      <td>1</td>\n",
       "      <td>0</td>\n",
       "      <td>0</td>\n",
       "      <td>1</td>\n",
       "      <td>0</td>\n",
       "      <td>1</td>\n",
       "      <td>1</td>\n",
       "      <td>0</td>\n",
       "      <td>...</td>\n",
       "      <td>0.50</td>\n",
       "      <td>0.25</td>\n",
       "      <td>0.25</td>\n",
       "      <td>0.2</td>\n",
       "      <td>0.6</td>\n",
       "      <td>0.2</td>\n",
       "      <td>0.772727</td>\n",
       "      <td>0.473684</td>\n",
       "      <td>0.578947</td>\n",
       "      <td>0.578947</td>\n",
       "    </tr>\n",
       "    <tr>\n",
       "      <th>2</th>\n",
       "      <td>0</td>\n",
       "      <td>1</td>\n",
       "      <td>1</td>\n",
       "      <td>0</td>\n",
       "      <td>0</td>\n",
       "      <td>1</td>\n",
       "      <td>0</td>\n",
       "      <td>1</td>\n",
       "      <td>1</td>\n",
       "      <td>0</td>\n",
       "      <td>...</td>\n",
       "      <td>0.50</td>\n",
       "      <td>0.25</td>\n",
       "      <td>0.25</td>\n",
       "      <td>0.4</td>\n",
       "      <td>0.4</td>\n",
       "      <td>0.6</td>\n",
       "      <td>0.681818</td>\n",
       "      <td>0.631579</td>\n",
       "      <td>0.684211</td>\n",
       "      <td>0.631579</td>\n",
       "    </tr>\n",
       "    <tr>\n",
       "      <th>3</th>\n",
       "      <td>0</td>\n",
       "      <td>1</td>\n",
       "      <td>1</td>\n",
       "      <td>0</td>\n",
       "      <td>0</td>\n",
       "      <td>1</td>\n",
       "      <td>0</td>\n",
       "      <td>1</td>\n",
       "      <td>1</td>\n",
       "      <td>0</td>\n",
       "      <td>...</td>\n",
       "      <td>0.75</td>\n",
       "      <td>1.00</td>\n",
       "      <td>0.50</td>\n",
       "      <td>0.2</td>\n",
       "      <td>0.4</td>\n",
       "      <td>0.2</td>\n",
       "      <td>0.681818</td>\n",
       "      <td>0.736842</td>\n",
       "      <td>0.736842</td>\n",
       "      <td>0.736842</td>\n",
       "    </tr>\n",
       "    <tr>\n",
       "      <th>4</th>\n",
       "      <td>0</td>\n",
       "      <td>1</td>\n",
       "      <td>1</td>\n",
       "      <td>0</td>\n",
       "      <td>0</td>\n",
       "      <td>1</td>\n",
       "      <td>1</td>\n",
       "      <td>0</td>\n",
       "      <td>1</td>\n",
       "      <td>0</td>\n",
       "      <td>...</td>\n",
       "      <td>0.50</td>\n",
       "      <td>0.75</td>\n",
       "      <td>0.75</td>\n",
       "      <td>0.2</td>\n",
       "      <td>0.4</td>\n",
       "      <td>0.4</td>\n",
       "      <td>0.727273</td>\n",
       "      <td>0.578947</td>\n",
       "      <td>0.684211</td>\n",
       "      <td>0.684211</td>\n",
       "    </tr>\n",
       "  </tbody>\n",
       "</table>\n",
       "<p>5 rows × 29 columns</p>\n",
       "</div>"
      ],
      "text/plain": [
       "   higher_no  higher_yes  school_GP  school_MS  address_R  address_U  \\\n",
       "0          0           1          1          0          0          1   \n",
       "1          0           1          1          0          0          1   \n",
       "2          0           1          1          0          0          1   \n",
       "3          0           1          1          0          0          1   \n",
       "4          0           1          1          0          0          1   \n",
       "\n",
       "   internet_no  internet_yes  sex_F  sex_M  ...  studytime  Medu  Fedu  Dalc  \\\n",
       "0            1             0      1      0  ...       0.50  1.00  1.00   0.2   \n",
       "1            0             1      1      0  ...       0.50  0.25  0.25   0.2   \n",
       "2            0             1      1      0  ...       0.50  0.25  0.25   0.4   \n",
       "3            0             1      1      0  ...       0.75  1.00  0.50   0.2   \n",
       "4            1             0      1      0  ...       0.50  0.75  0.75   0.2   \n",
       "\n",
       "   goout  Walc       age        G1        G2        G3  \n",
       "0    0.8   0.2  0.818182  0.000000  0.578947  0.578947  \n",
       "1    0.6   0.2  0.772727  0.473684  0.578947  0.578947  \n",
       "2    0.4   0.6  0.681818  0.631579  0.684211  0.631579  \n",
       "3    0.4   0.2  0.681818  0.736842  0.736842  0.736842  \n",
       "4    0.4   0.4  0.727273  0.578947  0.684211  0.684211  \n",
       "\n",
       "[5 rows x 29 columns]"
      ]
     },
     "execution_count": 49,
     "metadata": {},
     "output_type": "execute_result"
    }
   ],
   "source": [
    "data_to_model.head()"
   ]
  },
  {
   "cell_type": "raw",
   "metadata": {},
   "source": [
    "data_to_model.to_csv('student-data-to-model-por.csv', index=False)"
   ]
  },
  {
   "cell_type": "markdown",
   "metadata": {},
   "source": [
    "<a href=\"#contents\" class=\"btn btn-success\" style=\"padding:10px;text-decoration:none;\">Voltar ao Topo</a>"
   ]
  },
  {
   "cell_type": "markdown",
   "metadata": {},
   "source": [
    "<a id=\"model-development-mlr\"></a>\n",
    "<h2>From Model Development to Evaluation: MLR</h2>"
   ]
  },
  {
   "cell_type": "code",
   "execution_count": 50,
   "metadata": {},
   "outputs": [],
   "source": [
    "import numpy as np\n",
    "from sklearn.linear_model import LinearRegression\n",
    "from sklearn.metrics import mean_squared_error, r2_score\n",
    "from sklearn.model_selection import cross_val_score, train_test_split"
   ]
  },
  {
   "cell_type": "code",
   "execution_count": 51,
   "metadata": {},
   "outputs": [],
   "source": [
    "x = data_to_model.iloc[:,:-1].values\n",
    "y = data_to_model.iloc[:,-1].values"
   ]
  },
  {
   "cell_type": "code",
   "execution_count": 52,
   "metadata": {},
   "outputs": [],
   "source": [
    "x_train, x_test, y_train, y_test = train_test_split(x, y, test_size=0.25, random_state=0)"
   ]
  },
  {
   "cell_type": "markdown",
   "metadata": {},
   "source": [
    "<a id=\"evaluation-measures-in\"></a>\n",
    "<h3>Measures for In-Sample Evaluation</h3>"
   ]
  },
  {
   "cell_type": "code",
   "execution_count": 53,
   "metadata": {},
   "outputs": [],
   "source": [
    "lm_insample = LinearRegression()\n",
    "lm_insample.fit(x_train, y_train)\n",
    "yhat_insample = lm_insample.predict(x_train)"
   ]
  },
  {
   "cell_type": "code",
   "execution_count": 54,
   "metadata": {
    "scrolled": true
   },
   "outputs": [
    {
     "name": "stdout",
     "output_type": "stream",
     "text": [
      "R2-score:  0.8496253451439701\n",
      "MSE of G3 and predicted value is:  0.0045284686126557646\n",
      "**********\n",
      "Mean absolute error: 0.04\n",
      "Residual sum of squares (MSE): 0.005\n"
     ]
    }
   ],
   "source": [
    "r_squared = r2_score(y_train, yhat_insample)\n",
    "mse = mean_squared_error(y_train, yhat_insample)\n",
    "\n",
    "print('R2-score: ', r_squared)\n",
    "print('MSE of G3 and predicted value is: ', mse)\n",
    "\n",
    "print('*' * 10)\n",
    "print(\"Mean absolute error: %.2f\" % np.mean(np.absolute(y_train - yhat_insample)))\n",
    "print(\"Residual sum of squares (MSE): %.3f\" % np.mean((y_train - yhat_insample) ** 2))"
   ]
  },
  {
   "cell_type": "markdown",
   "metadata": {},
   "source": [
    "<a id=\"evaluation-measures-out\"></a>\n",
    "<h3>Measures for Out-Sample Evaluation</h3>"
   ]
  },
  {
   "cell_type": "code",
   "execution_count": 55,
   "metadata": {},
   "outputs": [],
   "source": [
    "lm_outsample = LinearRegression()\n",
    "lm_outsample.fit(x_train, y_train)\n",
    "yhat_outsample = lm_outsample.predict(x_test)"
   ]
  },
  {
   "cell_type": "code",
   "execution_count": 56,
   "metadata": {},
   "outputs": [
    {
     "name": "stdout",
     "output_type": "stream",
     "text": [
      "R2-score:  0.8529692759729993\n",
      "MSE of G3 and predicted value is:  0.0036761478870221283\n",
      "**********\n",
      "Mean absolute error: 0.04\n",
      "Residual sum of squares (MSE): 0.004\n"
     ]
    }
   ],
   "source": [
    "r_squared = r2_score(y_test, yhat_outsample)\n",
    "mse = mean_squared_error(y_test, yhat_outsample)\n",
    "\n",
    "print('R2-score: ', r_squared)\n",
    "print('MSE of G3 and predicted value is: ', mse)\n",
    "\n",
    "print('*' * 10)\n",
    "print(\"Mean absolute error: %.2f\" % np.mean(np.absolute(y_test - yhat_outsample)))\n",
    "print(\"Residual sum of squares (MSE): %.3f\" % np.mean((y_test - yhat_outsample) ** 2))"
   ]
  },
  {
   "cell_type": "code",
   "execution_count": 57,
   "metadata": {},
   "outputs": [],
   "source": [
    "scores = cross_val_score(lm_outsample, x, y, cv=5)"
   ]
  },
  {
   "cell_type": "code",
   "execution_count": 58,
   "metadata": {},
   "outputs": [
    {
     "name": "stdout",
     "output_type": "stream",
     "text": [
      "scores: [0.77787553 0.73342755 0.84993066 0.86278212 0.80732597]\n",
      "scores mean: 0.8062683659079115\n"
     ]
    }
   ],
   "source": [
    "print('scores: {}\\nscores mean: {}'.format(scores, scores.mean()))"
   ]
  },
  {
   "cell_type": "markdown",
   "metadata": {},
   "source": [
    "<a id=\"evaluation-visualization\"></a>\n",
    "<h3>Evaluation Using Visualization</h3>"
   ]
  },
  {
   "cell_type": "markdown",
   "metadata": {},
   "source": [
    "Regression and Residual plots are used to visualize models for Simple Linear Regressions.\n",
    "For Multiple Linear Regression Model Visualization we use distribution plots."
   ]
  },
  {
   "cell_type": "code",
   "execution_count": 59,
   "metadata": {
    "scrolled": false
   },
   "outputs": [
    {
     "data": {
      "image/png": "[encoded data removed]",
      "text/plain": [
       "<Figure size 432x288 with 1 Axes>"
      ]
     },
     "metadata": {
      "needs_background": "light"
     },
     "output_type": "display_data"
    },
    {
     "data": {
      "image/png": "[encoded data removed]",
      "text/plain": [
       "<Figure size 432x288 with 1 Axes>"
      ]
     },
     "metadata": {
      "needs_background": "light"
     },
     "output_type": "display_data"
    }
   ],
   "source": [
    "plt.figure()\n",
    "\n",
    "ax1 = sns.distplot(y, hist=False, color=\"r\", label=\"Actual Value\")\n",
    "sns.distplot(yhat_insample, hist=False, color=\"b\", label=\"Fitted Values\" , ax=ax1)\n",
    "\n",
    "plt.title('Actual vs Fitted Values for G3 - In Sample Evaluation')\n",
    "plt.xlabel('Nota Final')\n",
    "plt.ylabel('Proportion')\n",
    "\n",
    "plt.show()\n",
    "plt.close()\n",
    "######################\n",
    "plt.figure()\n",
    "\n",
    "ax1 = sns.distplot(y_test, hist=False, color=\"r\", label=\"Actual Value\")\n",
    "sns.distplot(yhat_outsample, hist=False, color=\"b\", label=\"Fitted Values\" , ax=ax1)\n",
    "\n",
    "plt.title('Actual vs Fitted Values for G3 - Out Sample Evaluation')\n",
    "plt.xlabel('Nota Final')\n",
    "plt.ylabel('Proportion')\n",
    "\n",
    "plt.show()\n",
    "plt.close()"
   ]
  },
  {
   "cell_type": "markdown",
   "metadata": {},
   "source": [
    "Actual values line and Fitted Values line are close"
   ]
  },
  {
   "cell_type": "markdown",
   "metadata": {},
   "source": [
    "<a href=\"#contents\" class=\"btn btn-success\" style=\"padding:10px;text-decoration:none;\">Voltar ao Topo</a>"
   ]
  }
 ],
 "metadata": {
  "kernelspec": {
   "display_name": "Python 3",
   "language": "python",
   "name": "python3"
  },
  "language_info": {
   "codemirror_mode": {
    "name": "ipython",
    "version": 3
   },
   "file_extension": ".py",
   "mimetype": "text/x-python",
   "name": "python",
   "nbconvert_exporter": "python",
   "pygments_lexer": "ipython3",
   "version": "3.6.8"
  }
 },
 "nbformat": 4,
 "nbformat_minor": 2
}
